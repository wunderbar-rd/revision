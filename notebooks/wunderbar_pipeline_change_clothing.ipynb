{
 "cells": [
  {
   "cell_type": "code",
   "execution_count": 1,
   "metadata": {},
   "outputs": [],
   "source": [
    "import aiohttp\n",
    "import random\n",
    "import sys\n",
    "import torch\n",
    "from PIL import Image\n",
    "from matplotlib import cm\n",
    "import numpy as np\n",
    "\n",
    "sys.path.append('..')"
   ]
  },
  {
   "cell_type": "code",
   "execution_count": 2,
   "metadata": {},
   "outputs": [],
   "source": [
    "from comfy_script.runtime.real import load as load_comfy\n",
    "from comfy_script.client import Client"
   ]
  },
  {
   "cell_type": "code",
   "execution_count": null,
   "metadata": {},
   "outputs": [],
   "source": [
    "comfy_url = 'http://34.84.71.113'\n",
    "client = Client(comfy_url, session_factory=lambda: aiohttp.ClientSession(\n",
    "    auth=aiohttp.BasicAuth('wunderbar', 'qfA=!-gyWw$8Pk[')\n",
    "))"
   ]
  },
  {
   "cell_type": "code",
   "execution_count": 4,
   "metadata": {},
   "outputs": [],
   "source": [
    "load_comfy(client)"
   ]
  },
  {
   "cell_type": "code",
   "execution_count": 5,
   "metadata": {},
   "outputs": [],
   "source": [
    "from comfy_script.runtime.real.nodes import (\n",
    "    CheckpointLoaderSimple, \n",
    "    EmptyLatentImage, \n",
    "    KSampler, \n",
    "    VAEDecode, \n",
    "    CLIPTextEncode, \n",
    "    SaveImage,\n",
    "    PreviewImage,\n",
    ")"
   ]
  },
  {
   "cell_type": "code",
   "execution_count": 6,
   "metadata": {},
   "outputs": [
    {
     "data": {
      "text/plain": [
       "3573699943"
      ]
     },
     "execution_count": 6,
     "metadata": {},
     "output_type": "execute_result"
    }
   ],
   "source": [
    "seed = random.randint(1, 2**32)\n",
    "seed"
   ]
  },
  {
   "cell_type": "code",
   "execution_count": 20,
   "metadata": {},
   "outputs": [],
   "source": [
    "positive = 'beautiful scenery nature glass bottle landscape, , purple galaxy bottle,'\n",
    "negative = 'text, watermark'\n",
    "image_height = 1024 * 3\n",
    "image_width = 1024 * 3\n",
    "model_name = 'Realistic_Vision_V6.0_NV_B1.safetensors'\n",
    "scheduler = 'karras'\n",
    "sampler_name = 'euler'\n",
    "seed = 2412009591\n",
    "steps = 20\n",
    "cfg = 8"
   ]
  },
  {
   "cell_type": "code",
   "execution_count": 21,
   "metadata": {},
   "outputs": [
    {
     "data": {
      "application/vnd.jupyter.widget-view+json": {
       "model_id": "d4a4e6faacd4401f80baa20b077a4c81",
       "version_major": 2,
       "version_minor": 0
      },
      "text/plain": [
       "  0%|          | 0/20 [00:00<?, ?it/s]"
      ]
     },
     "metadata": {},
     "output_type": "display_data"
    }
   ],
   "source": [
    "with torch.inference_mode():\n",
    "    \n",
    "    # load model checkpoint\n",
    "    model, clip, vae = CheckpointLoaderSimple(model_name)\n",
    "    \n",
    "    # clip encode\n",
    "    positive_prompt = CLIPTextEncode(positive, clip)\n",
    "    negative_prompt = CLIPTextEncode(negative, clip)\n",
    "    \n",
    "    latent = EmptyLatentImage(image_width, image_height, 1)\n",
    "    latent = KSampler(\n",
    "        model, \n",
    "        seed, \n",
    "        steps, \n",
    "        cfg, \n",
    "        sampler_name, \n",
    "        scheduler, \n",
    "        positive_prompt, \n",
    "        negative_prompt, \n",
    "        latent\n",
    "    )\n",
    "    \n",
    "    image = VAEDecode(latent, vae)\n",
    "    \n",
    "    # PreviewImage(image)\n",
    "    output_image = SaveImage(image, 'Notebook', extra_pnginfo={'myfield': {'positive': positive, 'negative': negative}})\n",
    "    \n",
    "    Image.open(f\"../output/{output_image['ui']['images'][0]['filename']}\")"
   ]
  }
 ],
 "metadata": {
  "kernelspec": {
   "display_name": ".venv",
   "language": "python",
   "name": "python3"
  },
  "language_info": {
   "codemirror_mode": {
    "name": "ipython",
    "version": 3
   },
   "file_extension": ".py",
   "mimetype": "text/x-python",
   "name": "python",
   "nbconvert_exporter": "python",
   "pygments_lexer": "ipython3",
   "version": "3.11.8"
  }
 },
 "nbformat": 4,
 "nbformat_minor": 2
}
